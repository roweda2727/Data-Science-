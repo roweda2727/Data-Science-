{
 "cells": [
  {
   "cell_type": "markdown",
   "id": "2ea6ae43",
   "metadata": {},
   "source": [
    "# Data Science Tools and Ecosystem"
   ]
  },
  {
   "cell_type": "markdown",
   "id": "cd8101be",
   "metadata": {},
   "source": [
    "In this notebook, Data Science Tools and Ecosystem are summarized."
   ]
  },
  {
   "cell_type": "markdown",
   "id": "857c8aac",
   "metadata": {},
   "source": [
    "Some of the popular languages that Data Scientists use are:\n",
    "1. Programming R\n",
    "2. Python\n",
    "3. SQL\n",
    "4. C++\n",
    "5. JavaScript"
   ]
  },
  {
   "cell_type": "markdown",
   "id": "0bbd98d4",
   "metadata": {},
   "source": [
    "Some of the commonly used libraries used by Data Scientists include:\n",
    "\n",
    "    1.Panda\n",
    "    2.NumPy\n",
    "    3.Matplotlip\n",
    "    4.SciPy\n",
    "    5.Scikit-learn\n",
    "    "
   ]
  },
  {
   "cell_type": "markdown",
   "id": "8ff6c64a",
   "metadata": {},
   "source": [
    "|Data Science Tools|\n",
    "|---|\n",
    "|Apatche Spark|\n",
    "|Apatche Hadoop|\n",
    "|SAS|\n",
    "\n"
   ]
  },
  {
   "cell_type": "markdown",
   "id": "f71cf88b",
   "metadata": {},
   "source": [
    "### Below are a few examples of evaluating arithmetic expressions in Python"
   ]
  },
  {
   "cell_type": "code",
   "execution_count": 3,
   "id": "472dbda7",
   "metadata": {},
   "outputs": [
    {
     "data": {
      "text/plain": [
       "17"
      ]
     },
     "execution_count": 3,
     "metadata": {},
     "output_type": "execute_result"
    }
   ],
   "source": [
    "(3*4)+5\n",
    "# This a simple arithmetic expression to mutiply then add integers"
   ]
  },
  {
   "cell_type": "code",
   "execution_count": 4,
   "id": "b31f374a",
   "metadata": {},
   "outputs": [
    {
     "data": {
      "text/plain": [
       "3.3333333333333335"
      ]
     },
     "execution_count": 4,
     "metadata": {},
     "output_type": "execute_result"
    }
   ],
   "source": [
    "200/60\n",
    "# This will convert 200 minutes to hours by diving by 60"
   ]
  },
  {
   "cell_type": "markdown",
   "id": "b7d8001e",
   "metadata": {},
   "source": [
    "__Objectives__\n",
    "* List popular languages for Data Science.\n",
    "* List popular Libraries for Data Science.\n",
    "* List Some Tools are Used for Data Science.\n",
    "* How to Add a Comment in the Cell.\n",
    "* Some Examples of Arthimetic Expressions."
   ]
  },
  {
   "cell_type": "markdown",
   "id": "7c4b4cba",
   "metadata": {},
   "source": [
    "## Author\n",
    "Ruwayda Alkadi"
   ]
  }
 ],
 "metadata": {
  "kernelspec": {
   "display_name": "Python 3 (ipykernel)",
   "language": "python",
   "name": "python3"
  },
  "language_info": {
   "codemirror_mode": {
    "name": "ipython",
    "version": 3
   },
   "file_extension": ".py",
   "mimetype": "text/x-python",
   "name": "python",
   "nbconvert_exporter": "python",
   "pygments_lexer": "ipython3",
   "version": "3.11.5"
  }
 },
 "nbformat": 4,
 "nbformat_minor": 5
}
